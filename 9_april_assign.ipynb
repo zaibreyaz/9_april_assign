{
 "cells": [
  {
   "cell_type": "code",
   "execution_count": null,
   "id": "abb77e77-60ef-4275-babe-28baf56bdfae",
   "metadata": {},
   "outputs": [],
   "source": [
    "\"\"\"Q1. What is Bayes' theorem?\n",
    "\n",
    "    Ans: Bayes' theorem is a mathematical formula that helps us update our beliefs or predictions about something based on new evidence or information. It involves calculating the probability of an event happening, \n",
    "         given some prior knowledge or assumptions we have about it and the new information we receive.\n",
    "\"\"\""
   ]
  },
  {
   "cell_type": "code",
   "execution_count": null,
   "id": "63f4e0be-56ad-4fce-8cb4-9e08ee9ee8af",
   "metadata": {},
   "outputs": [],
   "source": [
    "\"\"\"Q2. What is the formula for Bayes' theorem?\n",
    "\n",
    "    Ans: P(A|B) = P(B|A) * P(A) / P(B)\n",
    "            P(A|B) is the probability of event A occurring given that event B has occurred\n",
    "            P(B|A) is the probability of event B occurring given that event A has occurred\n",
    "            P(A) is the probability of event A occurring \n",
    "            P(B) is the probability of event B occurring \n",
    "\"\"\""
   ]
  },
  {
   "cell_type": "code",
   "execution_count": null,
   "id": "a7ad5d9c-555c-4a57-a3a4-4d2edc3023b7",
   "metadata": {},
   "outputs": [],
   "source": [
    "\"\"\"Q3. How is Bayes' theorem used in practice?\n",
    "\n",
    "    Ans: Bayes' theorem is a fundamental concept in probability theory and is widely used in various practical applications. It is used in fields such as medical diagnosis, \n",
    "         spam filtering, financial forecasting, machine learning, and natural language processing. By updating prior probabilities with new information, Bayes' theorem helps to \n",
    "         make more accurate predictions and decisions based on available evidence. It is an important tool for analyzing uncertain situations and making informed judgments in a \n",
    "         wide range of fields.\n",
    "\"\"\""
   ]
  },
  {
   "cell_type": "code",
   "execution_count": null,
   "id": "c3fd072e-5593-45cc-9a74-0eef27c4b598",
   "metadata": {},
   "outputs": [],
   "source": [
    "\"\"\"Q4. What is the relationship between Bayes' theorem and conditional probability?\n",
    "\n",
    "    Ans: Bayes' theorem uses conditional probabilities to update prior beliefs about the likelihood of an event given new evidence. Conditional probability, on the other hand, \n",
    "         is the probability of an event occurring given that another event has already occurred.\n",
    "\"\"\""
   ]
  },
  {
   "cell_type": "code",
   "execution_count": null,
   "id": "9b7879ff-033f-4783-bcd3-6c32494f0a92",
   "metadata": {},
   "outputs": [],
   "source": [
    "\"\"\"Q5. How do you choose which type of Naive Bayes classifier to use for any given problem?\n",
    "\n",
    "    Ans: Gaussian Naive Bayes is suitable for continuous data with a normal distribution. Multinomial Naive Bayes is used for discrete data such as word counts in text analysis.\n",
    "         Bernoulli Naive Bayes is similar to Multinomial, but is used for binary data. The selection of the most appropriate type of Naive Bayes classifier is based on the type \n",
    "         of input data and the specific problem at hand.\n",
    "\"\"\""
   ]
  },
  {
   "cell_type": "code",
   "execution_count": null,
   "id": "38f67170-c1ce-4946-aedb-2c054884d902",
   "metadata": {},
   "outputs": [],
   "source": [
    "\"\"\"Q6. Assignment:\n",
    "You have a dataset with two features, X1 and X2, and two possible classes, A and B. You want to use Naive\n",
    "Bayes to classify a new instance with features X1 = 3 and X2 = 4. The following table shows the frequency of\n",
    "each feature value for each class:\n",
    "Class X1=1 X1=2 X1=3 X2=1 X2=2 X2=3 X2=4\n",
    "A 3 3 4 4 3 3 3\n",
    "B 2 2 1 2 2 2 3\n",
    "Assuming equal prior probabilities for each class, which class would Naive Bayes predict the new instance\n",
    "to belong to?\"\"\"\n",
    "\n",
    "\n",
    "\"\"\"Ans: \n",
    "\n",
    "P(X1=3|A) = 4/10\n",
    "P(X2=4|A) = 3/10\n",
    "P(X1=3,X2=4|A) = P(X1=3|A) * P(X2=4|A) = (4/10) * (3/10) = 0.12\n",
    "P(A) = 0.5\n",
    "\n",
    "P(X1=3|B) = 1/7\n",
    "P(X2=4|B) = 1/7\n",
    "P(X1=3,X2=4|B) = P(X1=3|B) * P(X2=4|B) = (1/7) * (1/7) = 0.02\n",
    "P(B) = 0.5\n",
    "\n",
    "P(X1=3,X2=4) = P(X1=3,X2=4|A) * P(A) + P(X1=3,X2=4|B) * P(B)\n",
    "= 0.12 * 0.5 + 0.02 * 0.5\n",
    "= 0.07\n",
    "\n",
    "P(A|X1=3,X2=4) = P(X1=3,X2=4|A) * P(A) / P(X1=3,X2=4)\n",
    "= 0.12 * 0.5 / 0.07\n",
    "= 0.8571\n",
    "\n",
    "P(B|X1=3,X2=4) = P(X1=3,X2=4|B) * P(B) / P(X1=3,X2=4)\n",
    "= 0.02 * 0.5 / 0.07\n",
    "= 0.1429\n",
    "\n",
    "Therefore, the Naive Bayes classifier would predict that the new instance belongs to class A, as it has the higher posterior probability.\n",
    "\n",
    "\"\"\""
   ]
  }
 ],
 "metadata": {
  "kernelspec": {
   "display_name": "Python 3 (ipykernel)",
   "language": "python",
   "name": "python3"
  },
  "language_info": {
   "codemirror_mode": {
    "name": "ipython",
    "version": 3
   },
   "file_extension": ".py",
   "mimetype": "text/x-python",
   "name": "python",
   "nbconvert_exporter": "python",
   "pygments_lexer": "ipython3",
   "version": "3.10.8"
  }
 },
 "nbformat": 4,
 "nbformat_minor": 5
}
